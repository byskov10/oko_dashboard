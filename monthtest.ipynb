{
 "cells": [
  {
   "cell_type": "code",
   "execution_count": 1,
   "metadata": {},
   "outputs": [
    {
     "name": "stdout",
     "output_type": "stream",
     "text": [
      "The month number is: 3\n"
     ]
    }
   ],
   "source": [
    "from datetime import datetime\n",
    "\n",
    "today = datetime.now()\n",
    "month_number = today.month\n",
    "\n",
    "print(f\"The month number is: {month_number}\")"
   ]
  },
  {
   "cell_type": "code",
   "execution_count": 2,
   "metadata": {},
   "outputs": [],
   "source": [
    "    danish_month_names = {\n",
    "    1: \"januar\",\n",
    "    2: \"februar\",\n",
    "    3: \"marts\",\n",
    "    4: \"april\",\n",
    "    5: \"maj\",\n",
    "    6: \"juni\",\n",
    "    7: \"juli\",\n",
    "    8: \"august\",\n",
    "    9: \"september\",\n",
    "    10: \"oktober\",\n",
    "    11: \"november\",\n",
    "    12: \"december\",\n",
    "    }"
   ]
  },
  {
   "cell_type": "code",
   "execution_count": 4,
   "metadata": {},
   "outputs": [
    {
     "name": "stdout",
     "output_type": "stream",
     "text": [
      "marts\n"
     ]
    }
   ],
   "source": [
    "print(danish_month_names[month_number])"
   ]
  },
  {
   "cell_type": "code",
   "execution_count": 6,
   "metadata": {},
   "outputs": [
    {
     "data": {
      "text/plain": [
       "'Marts'"
      ]
     },
     "execution_count": 6,
     "metadata": {},
     "output_type": "execute_result"
    }
   ],
   "source": [
    "from datetime import datetime\n",
    "def getthismonth():\n",
    "    today = datetime.now()\n",
    "    month_number = today.month\n",
    "    danish_month_names = {\n",
    "    1: \"januar\",\n",
    "    2: \"februar\",\n",
    "    3: \"marts\",\n",
    "    4: \"april\",\n",
    "    5: \"maj\",\n",
    "    6: \"juni\",\n",
    "    7: \"juli\",\n",
    "    8: \"august\",\n",
    "    9: \"september\",\n",
    "    10: \"oktober\",\n",
    "    11: \"november\",\n",
    "    12: \"december\",\n",
    "    }\n",
    "    return danish_month_names[month_number].capitalize()\n",
    "getthismonth()"
   ]
  },
  {
   "cell_type": "code",
   "execution_count": null,
   "metadata": {},
   "outputs": [],
   "source": []
  }
 ],
 "metadata": {
  "kernelspec": {
   "display_name": "Python 3",
   "language": "python",
   "name": "python3"
  },
  "language_info": {
   "codemirror_mode": {
    "name": "ipython",
    "version": 3
   },
   "file_extension": ".py",
   "mimetype": "text/x-python",
   "name": "python",
   "nbconvert_exporter": "python",
   "pygments_lexer": "ipython3",
   "version": "3.11.5"
  }
 },
 "nbformat": 4,
 "nbformat_minor": 2
}
