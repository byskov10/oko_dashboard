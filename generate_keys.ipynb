{
 "cells": [
  {
   "cell_type": "code",
   "execution_count": 2,
   "metadata": {},
   "outputs": [],
   "source": [
    "import pickle\n",
    "from pathlib import Path\n",
    "import os\n",
    "\n",
    "import streamlit_authenticator as stauth\n",
    "\n",
    "names = [\"Admin\", \"Viktor Byskov\"]\n",
    "usernames = [\"admin\", \"vb\"]\n",
    "password = [\"XXX\", \"XXX\"]\n",
    "\n",
    "hashed_passwords = stauth.Hasher(password).generate()\n",
    "\n",
    "file_path = Path(os.getcwd()) / \"hashed_pw.pkl\"\n",
    "with file_path.open(\"wb\") as file:\n",
    "    pickle.dump(hashed_passwords, file)\n"
   ]
  },
  {
   "cell_type": "code",
   "execution_count": null,
   "metadata": {},
   "outputs": [],
   "source": []
  }
 ],
 "metadata": {
  "kernelspec": {
   "display_name": "venv",
   "language": "python",
   "name": "python3"
  },
  "language_info": {
   "codemirror_mode": {
    "name": "ipython",
    "version": 3
   },
   "file_extension": ".py",
   "mimetype": "text/x-python",
   "name": "python",
   "nbconvert_exporter": "python",
   "pygments_lexer": "ipython3",
   "version": "3.12.1"
  }
 },
 "nbformat": 4,
 "nbformat_minor": 2
}
